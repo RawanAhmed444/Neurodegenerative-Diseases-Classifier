{
  "nbformat": 4,
  "nbformat_minor": 0,
  "metadata": {
    "colab": {
      "provenance": [],
      "toc_visible": true
    },
    "kernelspec": {
      "name": "python3",
      "display_name": "Python 3"
    },
    "language_info": {
      "name": "python"
    }
  },
  "cells": [
    {
      "cell_type": "code",
      "source": [
        "# First mount Google Drive to access the data\n",
        "from google.colab import drive\n",
        "drive.mount('/content/drive')\n",
        "\n",
        "import os\n",
        "import random\n",
        "import time\n",
        "import numpy as np\n",
        "import cv2\n",
        "import matplotlib.pyplot as plt\n",
        "from skimage import exposure\n",
        "import pandas as pd\n",
        "from tqdm import tqdm\n",
        "from sklearn.model_selection import train_test_split\n",
        "from sklearn.ensemble import RandomForestClassifier\n",
        "from sklearn.metrics import accuracy_score, classification_report, confusion_matrix\n",
        "from sklearn.preprocessing import LabelEncoder\n",
        "\n",
        "# Configuration\n",
        "DATA_PATH = '/content/drive/MyDrive/MLData/Data'\n",
        "SAMPLE_SIZE_PER_CLASS = 10    # Small sample for quick testing\n",
        "TEST_SIZE = 0.3               # 30% for testing\n",
        "RANDOM_SEED = 42\n",
        "random.seed(RANDOM_SEED)\n",
        "\n",
        "# Verify the folder exists\n",
        "if not os.path.exists(DATA_PATH):\n",
        "    raise FileNotFoundError(f\"Data folder not found at {DATA_PATH}. Please check the path.\")"
      ],
      "metadata": {
        "colab": {
          "base_uri": "https://localhost:8080/"
        },
        "id": "p5DTUYQwoMty",
        "outputId": "47717bc3-0f23-4992-ceb8-7b836a5f4a20"
      },
      "execution_count": null,
      "outputs": [
        {
          "output_type": "stream",
          "name": "stdout",
          "text": [
            "Drive already mounted at /content/drive; to attempt to forcibly remount, call drive.mount(\"/content/drive\", force_remount=True).\n"
          ]
        }
      ]
    },
    {
      "cell_type": "code",
      "source": [
        "# # Image Preprocessing Technique Comparison\n",
        "# Comparing five distinct scenarios:\n",
        "# 1. Original (no processing)\n",
        "# 2. CLAHE only\n",
        "# 3. Histogram Equalization only\n",
        "# 4. Gaussian Blur (Noise Reduction) only\n",
        "# 5. Sharpening only\n",
        "\n",
        "# Load sample images\n",
        "def load_sample_images(data_path, sample_size):\n",
        "    classes = [d for d in os.listdir(data_path) if os.path.isdir(os.path.join(data_path, d))]\n",
        "    image_paths = []\n",
        "    labels = []\n",
        "\n",
        "    for class_name in classes:\n",
        "        class_path = os.path.join(data_path, class_name)\n",
        "        all_images = [f for f in os.listdir(class_path) if f.lower().endswith(('.png', '.jpg', '.jpeg'))]\n",
        "        sampled_images = random.sample(all_images, min(sample_size, len(all_images)))\n",
        "\n",
        "        for img_name in sampled_images:\n",
        "            image_paths.append(os.path.join(class_path, img_name))\n",
        "            labels.append(class_name)\n",
        "\n",
        "    return image_paths, labels\n",
        "\n",
        "# Load the images\n",
        "try:\n",
        "    image_paths, labels = load_sample_images(DATA_PATH, SAMPLE_SIZE_PER_CLASS)\n",
        "    print(f\"Loaded {len(image_paths)} images from {len(set(labels))} classes\")\n",
        "    print(f\"Classes: {list(set(labels))}\")\n",
        "except Exception as e:\n",
        "    print(f\"Error loading images: {e}\")"
      ],
      "metadata": {
        "colab": {
          "base_uri": "https://localhost:8080/"
        },
        "id": "gAAALPjFouqA",
        "outputId": "3dba4c40-1fa2-4f38-a015-9b22b1647501"
      },
      "execution_count": null,
      "outputs": [
        {
          "output_type": "stream",
          "name": "stdout",
          "text": [
            "Loaded 30 images from 3 classes\n",
            "Classes: ['alzheimer', 'normal', 'parkinson']\n"
          ]
        }
      ]
    },
    {
      "cell_type": "code",
      "source": [
        "# Define preprocessing techniques\n",
        "def original_image(img):\n",
        "    \"\"\"Scenario 1: No processing\"\"\"\n",
        "    return img\n",
        "\n",
        "def clahe_processing(img):\n",
        "    \"\"\"Scenario 2: CLAHE only\"\"\"\n",
        "    clahe = cv2.createCLAHE(clipLimit=2.0, tileGridSize=(8,8))\n",
        "    if len(img.shape) == 2 or img.shape[2] == 1:\n",
        "        return clahe.apply(img)\n",
        "    else:\n",
        "        lab = cv2.cvtColor(img, cv2.COLOR_BGR2LAB)\n",
        "        l, a, b = cv2.split(lab)\n",
        "        l = clahe.apply(l)\n",
        "        lab = cv2.merge((l, a, b))\n",
        "        return cv2.cvtColor(lab, cv2.COLOR_LAB2BGR)\n",
        "\n",
        "def hist_equalization(img):\n",
        "    \"\"\"Scenario 3: Histogram Equalization only\"\"\"\n",
        "    if len(img.shape) == 2 or img.shape[2] == 1:\n",
        "        return cv2.equalizeHist(img)\n",
        "    else:\n",
        "        ycrcb = cv2.cvtColor(img, cv2.COLOR_BGR2YCrCb)\n",
        "        ycrcb[:,:,0] = cv2.equalizeHist(ycrcb[:,:,0])\n",
        "        return cv2.cvtColor(ycrcb, cv2.COLOR_YCrCb2BGR)\n",
        "\n",
        "def gaussian_blur(img):\n",
        "    \"\"\"Scenario 4: Gaussian Blur only\"\"\"\n",
        "    return cv2.GaussianBlur(img, (5,5), 0)\n",
        "\n",
        "def sharpening(img):\n",
        "    \"\"\"Scenario 5: Sharpening only\"\"\"\n",
        "    kernel = np.array([[0, -1, 0], [-1, 5, -1], [0, -1, 0]])\n",
        "    return cv2.filter2D(img, -1, kernel)"
      ],
      "metadata": {
        "id": "ML03Yvn2o7f4"
      },
      "execution_count": null,
      "outputs": []
    },
    {
      "cell_type": "code",
      "source": [
        "# Process images and prepare datasets for classification\n",
        "def create_classification_datasets(image_paths, labels):\n",
        "    techniques = {\n",
        "        'Original': original_image,\n",
        "        'CLAHE': clahe_processing,\n",
        "        'Hist Equalization': hist_equalization,\n",
        "        'Gaussian Blur': gaussian_blur,\n",
        "        'Sharpening': sharpening\n",
        "    }\n",
        "\n",
        "    # Encode labels\n",
        "    le = LabelEncoder()\n",
        "    y = le.fit_transform(labels)\n",
        "\n",
        "    datasets = {}\n",
        "\n",
        "    for name, func in techniques.items():\n",
        "        X = []\n",
        "        processed_labels = []\n",
        "\n",
        "        for path, label in tqdm(zip(image_paths, labels), total=len(image_paths), desc=f\"Processing {name}\"):\n",
        "            img = cv2.imread(path)\n",
        "            if img is None:\n",
        "                continue\n",
        "\n",
        "            try:\n",
        "                processed = func(img)\n",
        "                # Resize and flatten for classifier\n",
        "                resized = cv2.resize(processed, (64, 64))  # Reduced size for faster processing\n",
        "                if len(resized.shape) == 3:\n",
        "                    flattened = resized.flatten()\n",
        "                else:\n",
        "                    flattened = np.stack((resized,)*3, axis=-1).flatten()  # Make sure all have same dimensions\n",
        "                X.append(flattened)\n",
        "                processed_labels.append(label)\n",
        "            except Exception as e:\n",
        "                print(f\"Error processing {path} with {name}: {e}\")\n",
        "                continue\n",
        "\n",
        "        # Only store if we successfully processed images\n",
        "        if len(X) > 0:\n",
        "            X = np.array(X)\n",
        "            y_processed = le.transform(processed_labels)\n",
        "            X_train, X_test, y_train, y_test = train_test_split(X, y_processed, test_size=TEST_SIZE, random_state=RANDOM_SEED)\n",
        "            datasets[name] = (X_train, X_test, y_train, y_test)\n",
        "\n",
        "    return datasets, le\n",
        "\n",
        "print(\"Creating datasets for each preprocessing technique...\")\n",
        "datasets, label_encoder = create_classification_datasets(image_paths, labels)\n",
        "print(f\"Created datasets for {len(datasets)} techniques\")"
      ],
      "metadata": {
        "colab": {
          "base_uri": "https://localhost:8080/"
        },
        "id": "3-VcPUgJpA5-",
        "outputId": "d556456f-1fc6-4824-c4a2-0301b1784605"
      },
      "execution_count": null,
      "outputs": [
        {
          "output_type": "stream",
          "name": "stdout",
          "text": [
            "Creating datasets for each preprocessing technique...\n"
          ]
        },
        {
          "output_type": "stream",
          "name": "stderr",
          "text": [
            "Processing Original: 100%|██████████| 30/30 [00:08<00:00,  3.54it/s]\n",
            "Processing CLAHE: 100%|██████████| 30/30 [00:00<00:00, 112.01it/s]\n",
            "Processing Hist Equalization: 100%|██████████| 30/30 [00:00<00:00, 137.59it/s]\n",
            "Processing Gaussian Blur: 100%|██████████| 30/30 [00:00<00:00, 161.55it/s]\n",
            "Processing Sharpening: 100%|██████████| 30/30 [00:00<00:00, 149.35it/s]"
          ]
        },
        {
          "output_type": "stream",
          "name": "stdout",
          "text": [
            "Created datasets for 5 techniques\n"
          ]
        },
        {
          "output_type": "stream",
          "name": "stderr",
          "text": [
            "\n"
          ]
        }
      ]
    },
    {
      "cell_type": "code",
      "source": [
        "# Train and evaluate classifiers\n",
        "def evaluate_techniques(datasets, label_encoder):\n",
        "    results = []\n",
        "    models = {}\n",
        "\n",
        "    for name, (X_train, X_test, y_train, y_test) in datasets.items():\n",
        "        print(f\"\\nEvaluating {name}...\")\n",
        "\n",
        "        # Train classifier (using reduced parameters for speed)\n",
        "        clf = RandomForestClassifier(n_estimators=50, max_depth=10, random_state=RANDOM_SEED)\n",
        "        start_time = time.time()\n",
        "        clf.fit(X_train, y_train)\n",
        "        training_time = time.time() - start_time\n",
        "\n",
        "        # Predictions\n",
        "        y_pred = clf.predict(X_test)\n",
        "\n",
        "        # Metrics\n",
        "        accuracy = accuracy_score(y_test, y_pred)\n",
        "        class_report = classification_report(y_test, y_pred, target_names=label_encoder.classes_, output_dict=True)\n",
        "        conf_matrix = confusion_matrix(y_test, y_pred)\n",
        "\n",
        "        # Store results\n",
        "        results.append({\n",
        "            'technique': name,\n",
        "            'accuracy': accuracy,\n",
        "            'training_time': training_time,\n",
        "            'precision': class_report['weighted avg']['precision'],\n",
        "            'recall': class_report['weighted avg']['recall'],\n",
        "            'f1_score': class_report['weighted avg']['f1-score']\n",
        "        })\n",
        "\n",
        "        models[name] = clf\n",
        "\n",
        "        # Print summary\n",
        "        print(f\"Accuracy: {accuracy:.3f}\")\n",
        "        print(f\"Training time: {training_time:.2f}s\")\n",
        "        print(\"Classification Report:\")\n",
        "        print(classification_report(y_test, y_pred, target_names=label_encoder.classes_))\n",
        "\n",
        "    return pd.DataFrame(results), models\n",
        "\n",
        "print(\"\\nEvaluating all techniques...\")\n",
        "metrics_df, trained_models = evaluate_techniques(datasets, label_encoder)"
      ],
      "metadata": {
        "colab": {
          "base_uri": "https://localhost:8080/"
        },
        "id": "QwBK9n2UrXm6",
        "outputId": "2190d76b-d54a-4812-e2d5-a97ccea4c015"
      },
      "execution_count": null,
      "outputs": [
        {
          "output_type": "stream",
          "name": "stdout",
          "text": [
            "\n",
            "Evaluating all techniques...\n",
            "\n",
            "Evaluating Original...\n",
            "Accuracy: 0.444\n",
            "Training time: 0.49s\n",
            "Classification Report:\n",
            "              precision    recall  f1-score   support\n",
            "\n",
            "   alzheimer       0.33      0.33      0.33         3\n",
            "      normal       0.33      0.25      0.29         4\n",
            "   parkinson       0.67      1.00      0.80         2\n",
            "\n",
            "    accuracy                           0.44         9\n",
            "   macro avg       0.44      0.53      0.47         9\n",
            "weighted avg       0.41      0.44      0.42         9\n",
            "\n",
            "\n",
            "Evaluating CLAHE...\n",
            "Accuracy: 0.444\n",
            "Training time: 0.15s\n",
            "Classification Report:\n",
            "              precision    recall  f1-score   support\n",
            "\n",
            "   alzheimer       0.50      0.67      0.57         3\n",
            "      normal       0.33      0.25      0.29         4\n",
            "   parkinson       0.50      0.50      0.50         2\n",
            "\n",
            "    accuracy                           0.44         9\n",
            "   macro avg       0.44      0.47      0.45         9\n",
            "weighted avg       0.43      0.44      0.43         9\n",
            "\n",
            "\n",
            "Evaluating Hist Equalization...\n",
            "Accuracy: 0.556\n",
            "Training time: 0.36s\n",
            "Classification Report:\n",
            "              precision    recall  f1-score   support\n",
            "\n",
            "   alzheimer       0.50      0.67      0.57         3\n",
            "      normal       0.50      0.50      0.50         4\n",
            "   parkinson       1.00      0.50      0.67         2\n",
            "\n",
            "    accuracy                           0.56         9\n",
            "   macro avg       0.67      0.56      0.58         9\n",
            "weighted avg       0.61      0.56      0.56         9\n",
            "\n",
            "\n",
            "Evaluating Gaussian Blur...\n",
            "Accuracy: 0.333\n",
            "Training time: 0.58s\n",
            "Classification Report:\n",
            "              precision    recall  f1-score   support\n",
            "\n",
            "   alzheimer       0.33      0.33      0.33         3\n",
            "      normal       0.25      0.25      0.25         4\n",
            "   parkinson       0.50      0.50      0.50         2\n",
            "\n",
            "    accuracy                           0.33         9\n",
            "   macro avg       0.36      0.36      0.36         9\n",
            "weighted avg       0.33      0.33      0.33         9\n",
            "\n",
            "\n",
            "Evaluating Sharpening...\n",
            "Accuracy: 0.667\n",
            "Training time: 0.44s\n",
            "Classification Report:\n",
            "              precision    recall  f1-score   support\n",
            "\n",
            "   alzheimer       0.60      1.00      0.75         3\n",
            "      normal       1.00      0.25      0.40         4\n",
            "   parkinson       0.67      1.00      0.80         2\n",
            "\n",
            "    accuracy                           0.67         9\n",
            "   macro avg       0.76      0.75      0.65         9\n",
            "weighted avg       0.79      0.67      0.61         9\n",
            "\n"
          ]
        }
      ]
    },
    {
      "cell_type": "code",
      "source": [
        "# Compare techniques\n",
        "def compare_techniques(metrics_df):\n",
        "    # Normalize metrics (higher is better for all except time)\n",
        "    metrics = ['accuracy', 'precision', 'recall', 'f1_score']\n",
        "    for metric in metrics:\n",
        "        min_val = metrics_df[metric].min()\n",
        "        max_val = metrics_df[metric].max()\n",
        "        metrics_df[f'norm_{metric}'] = (metrics_df[metric] - min_val) / (max_val - min_val)\n",
        "\n",
        "    # Time should be lower (so we inverse it)\n",
        "    min_time = metrics_df['training_time'].min()\n",
        "    max_time = metrics_df['training_time'].max()\n",
        "    metrics_df['norm_time'] = 1 - ((metrics_df['training_time'] - min_time) / (max_time - min_time))\n",
        "\n",
        "    # Combined score (weighted average)\n",
        "    weights = {\n",
        "        'accuracy': 0.4,\n",
        "        'f1_score': 0.3,\n",
        "        'training_time': 0.3\n",
        "    }\n",
        "\n",
        "    metrics_df['score'] = (\n",
        "        weights['accuracy'] * metrics_df['norm_accuracy'] +\n",
        "        weights['f1_score'] * metrics_df['norm_f1_score'] +\n",
        "        weights['training_time'] * metrics_df['norm_time']\n",
        "    )\n",
        "\n",
        "    # Formatting\n",
        "    for metric in ['accuracy', 'precision', 'recall', 'f1_score']:\n",
        "        metrics_df[metric] = metrics_df[metric].round(3)\n",
        "    metrics_df['training_time'] = metrics_df['training_time'].round(2)\n",
        "\n",
        "    return metrics_df.sort_values('score', ascending=False)\n",
        "\n",
        "print(\"\\nTechnique Comparison based on Classifier Performance:\")\n",
        "comparison_df = compare_techniques(metrics_df)\n",
        "print(comparison_df[['technique', 'accuracy', 'f1_score', 'training_time', 'score']])\n",
        "\n",
        "# %%\n",
        "# Recommendation\n",
        "best_technique = comparison_df.iloc[0]['technique']\n",
        "best_accuracy = comparison_df.iloc[0]['accuracy']\n",
        "print(f\"\\nRecommended preprocessing technique: {best_technique}\")\n",
        "print(f\"Achieved accuracy: {best_accuracy:.3f}\")\n",
        "print(\"Based on classifier accuracy, F1 score, and training time\")\n",
        "\n",
        "# %%\n",
        "# Visualize results\n",
        "plt.figure(figsize=(10, 6))\n",
        "plt.bar(comparison_df['technique'], comparison_df['accuracy'])\n",
        "plt.title('Classifier Accuracy by Preprocessing Technique')\n",
        "plt.ylabel('Accuracy')\n",
        "plt.ylim(0, 1.0)\n",
        "plt.xticks(rotation=45)\n",
        "plt.show()\n",
        "\n",
        "# %%\n",
        "# Save results\n",
        "results = {\n",
        "    'metrics': metrics_df,\n",
        "    'comparison': comparison_df,\n",
        "    'label_encoder': label_encoder\n",
        "}\n",
        "\n",
        "import pickle\n",
        "with open('classification_results.pkl', 'wb') as f:\n",
        "    pickle.dump(results, f)\n",
        "\n",
        "comparison_df.to_csv('technique_comparison_classifier.csv', index=False)"
      ],
      "metadata": {
        "colab": {
          "base_uri": "https://localhost:8080/",
          "height": 831
        },
        "id": "98TmpKTApNuG",
        "outputId": "d19ff1af-d17a-4ea1-f47c-b108b076d777"
      },
      "execution_count": null,
      "outputs": [
        {
          "output_type": "stream",
          "name": "stdout",
          "text": [
            "\n",
            "Technique Comparison based on Classifier Performance:\n",
            "           technique  accuracy  f1_score  training_time     score\n",
            "4         Sharpening     0.667     0.606           0.44  0.797674\n",
            "2  Hist Equalization     0.556     0.561           0.36  0.671104\n",
            "1              CLAHE     0.444     0.429           0.15  0.538429\n",
            "0           Original     0.444     0.416           0.49  0.286934\n",
            "3      Gaussian Blur     0.333     0.333           0.58  0.000000\n",
            "\n",
            "Recommended preprocessing technique: Sharpening\n",
            "Achieved accuracy: 0.667\n",
            "Based on classifier accuracy, F1 score, and training time\n"
          ]
        },
        {
          "output_type": "display_data",
          "data": {
            "text/plain": [
              "<Figure size 1000x600 with 1 Axes>"
            ],
            "image/png": "[encoded data removed]"
          },
          "metadata": {}
        }
      ]
    }
  ]
}